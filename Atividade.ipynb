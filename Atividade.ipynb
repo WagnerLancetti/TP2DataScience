{
 "cells": [
  {
   "cell_type": "markdown",
   "id": "785c998d",
   "metadata": {},
   "source": [
    "<center><h1>Comparação de Tempo: Numpy vs Array 2D Python</h1> </center>"
   ]
  },
  {
   "cell_type": "markdown",
   "id": "407b37ca",
   "metadata": {},
   "source": [
    "## Importação das Bibliotecas\n",
    "Numpy: Gerar arrays 2d usando a biblioteca  \n",
    "pandas: Geração de tabelas  \n",
    "random: Geração de número aleatórios para compor o vetor  \n",
    "time: Medir o tempo de execução do programa  "
   ]
  },
  {
   "cell_type": "code",
   "execution_count": 62,
   "id": "ca32800a",
   "metadata": {},
   "outputs": [],
   "source": [
    "import numpy as np\n",
    "from matplotlib import pyplot as plt\n",
    "import random\n",
    "import time as tm\n",
    "import sys"
   ]
  },
  {
   "cell_type": "markdown",
   "id": "41a9f7a0",
   "metadata": {},
   "source": [
    "## Código de Teste\n",
    "O algoritmo que será testado para comparar os tempos de execução será a múltiplicação de matriz. A operação será a múltiplicação do array 2D, usando numpy e a primitiva do Python, por ele mesmo."
   ]
  },
  {
   "cell_type": "code",
   "execution_count": 63,
   "id": "311a7d84",
   "metadata": {},
   "outputs": [],
   "source": [
    "N = 100 # Tamanho inicial do vetor 2D (100 x 100)\n",
    "bigNum = 100 # Maior número dentro de cada posição da matriz\n",
    "intervalSup = 1000 # O N vai incrementando e gerando novos vetores, essa variável define até onde o N vai crescer"
   ]
  },
  {
   "cell_type": "markdown",
   "id": "894d59d1",
   "metadata": {},
   "source": [
    "## Tempos Numpy\n",
    "Função que vai guardar todos os tempos de execução do vetor usando numpy."
   ]
  },
  {
   "cell_type": "code",
   "execution_count": 64,
   "id": "2e5b7249",
   "metadata": {},
   "outputs": [],
   "source": [
    "timesNP = []\n",
    "def TemposNumpy(values, timesNP): \n",
    "    inicio = tm.time()\n",
    "    values = np.dot(values,values)\n",
    "    fim = tm.time()\n",
    "    timesNP.append(fim-inicio)"
   ]
  },
  {
   "cell_type": "markdown",
   "id": "a65cfaef",
   "metadata": {},
   "source": [
    "## Tempos Array 2D\n",
    "Função que vai guardar todos os tempos de execução do vetor usando array 2D."
   ]
  },
  {
   "cell_type": "code",
   "execution_count": 65,
   "id": "85e7757e",
   "metadata": {},
   "outputs": [],
   "source": [
    "timesPy = []\n",
    "def TemposArray(valores, timesPy):\n",
    "    inicio = tm.time()\n",
    "    valores = np.dot(valores,valores)\n",
    "    fim = tm.time()\n",
    "    timesPy.append(fim-inicio) "
   ]
  },
  {
   "cell_type": "markdown",
   "id": "433a2b38",
   "metadata": {},
   "source": [
    "## Criação Dos Vetores 2D\n",
    "O vetor é criado usando números aleatórios com repetição."
   ]
  },
  {
   "cell_type": "code",
   "execution_count": 66,
   "id": "40689d75",
   "metadata": {
    "scrolled": true
   },
   "outputs": [],
   "source": [
    "N_values = []\n",
    "while N <= intervalSup:\n",
    "    values = np.random.randint(1, bigNum, (N,N), dtype = np.int32)\n",
    "    valores = []\n",
    "    i = 0\n",
    "    while i < N ** 2:\n",
    "        valores.append(random.randint(0,bigNum))\n",
    "        i += 1\n",
    "    N_values.append(N)\n",
    "    TemposNumpy(values, timesNP)\n",
    "    TemposArray(valores, timesPy)\n",
    "    N += 100 "
   ]
  },
  {
   "cell_type": "markdown",
   "id": "bb9effff",
   "metadata": {},
   "source": [
    "## Plotagem do Gráfico\n",
    "A plotagem do gráfico é feita com a biblioteca 'matplotlib'. Foi usado um gráfico comparativo dos tempos de execução, no qual o eixo x indica os tamanhos dos vetores, e o eixo y o tempo que levou para calcular."
   ]
  },
  {
   "cell_type": "code",
   "execution_count": 73,
   "id": "6f364382",
   "metadata": {},
   "outputs": [
    {
     "data": {
      "image/png": "[encoded data removed]",
      "text/plain": [
       "<Figure size 432x288 with 1 Axes>"
      ]
     },
     "metadata": {
      "needs_background": "light"
     },
     "output_type": "display_data"
    },
    {
     "data": {
      "image/png": "[encoded data removed]",
      "text/plain": [
       "<Figure size 432x288 with 1 Axes>"
      ]
     },
     "metadata": {
      "needs_background": "light"
     },
     "output_type": "display_data"
    }
   ],
   "source": [
    "dados1 = np.arange(len(timesNP))\n",
    "dados2 = [x + 0.25 for x in dados1]\n",
    "\n",
    "plt.bar(dados1, timesNP, width=0.25, label = 'Numpy', color = 'b')\n",
    "plt.bar(dados2, timesPy, width=0.25, label = 'Array 2D', color = 'y')\n",
    "\n",
    "sizes = N_values\n",
    "\n",
    "plt.xticks([x + 0.25 for x in range(len(timesNP))], sizes)\n",
    "plt.legend()\n",
    "plt.title(\"Comparativo Tempo de Execução\")\n",
    "plt.show()\n",
    "\n",
    "dados = ['Numpy','Array 2D']\n",
    "comparativo = [sys.getsizeof(values), sys.getsizeof(valores)]\n",
    "plt.title(\"Comparativo Tamanho na Memória\")\n",
    "plt.bar(dados, comparativo)\n",
    "plt.show()\n",
    "\n"
   ]
  },
  {
   "cell_type": "markdown",
   "id": "06659b30",
   "metadata": {},
   "source": [
    "## Discussão\n",
    "É possível notar que o tempo de execução do vetor usando nnumpy é maior que os vetores 2D do python para a operação de multiplicação de matrizes. Contudo, o espaço de memória ocupado pelo array 2D do numpy é praticamente metade do vetor padrão do python."
   ]
  }
 ],
 "metadata": {
  "kernelspec": {
   "display_name": "Python 3",
   "language": "python",
   "name": "python3"
  },
  "language_info": {
   "codemirror_mode": {
    "name": "ipython",
    "version": 3
   },
   "file_extension": ".py",
   "mimetype": "text/x-python",
   "name": "python",
   "nbconvert_exporter": "python",
   "pygments_lexer": "ipython3",
   "version": "3.8.8"
  }
 },
 "nbformat": 4,
 "nbformat_minor": 5
}
